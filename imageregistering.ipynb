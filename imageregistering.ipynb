{
 "cells": [
  {
   "cell_type": "markdown",
   "metadata": {},
   "source": [
    "Importing stuff"
   ]
  },
  {
   "cell_type": "code",
   "execution_count": null,
   "metadata": {},
   "outputs": [],
   "source": [
    "import numpy as np\n",
    "import cv2\n",
    "import h5py\n",
    "import tifffile as tiff\n",
    "\n",
    "# input filename\n",
    "filename = 'z_030_div1.tif'\n",
    "# z location for anatomy\n",
    "za = 99\n",
    "\n",
    "# reading filename\n",
    "a = tiff.imread(filename)\n",
    "\n",
    "# Extracting a single frame\n",
    "extract = 82\n",
    "\n",
    "zdata = a[extract]\n",
    "\n",
    "# filesavname=filename[:-4]+'_single.tif'\n",
    "# tiff.imsave(filesavname,filesav)"
   ]
  },
  {
   "cell_type": "code",
   "execution_count": null,
   "metadata": {},
   "outputs": [],
   "source": [
    "# reading anatomical data from hdf5 file\n",
    "\n",
    "anatomy = h5py.File('AnatomyLabelDatabase.hdf5','r')\n",
    "anatomyGCaMP5 = anatomy['Elavl3-GCaMP5G_6dpf_MeanImageOf7Fish']\n",
    "# desired z plane\n",
    "zanatomy = anatomyGCaMP5[:][:][za]\n",
    "cv2.imwrite('zanatomy.jpg',zanatomy)\n",
    "print(zanatomy)"
   ]
  },
  {
   "cell_type": "code",
   "execution_count": null,
   "metadata": {},
   "outputs": [],
   "source": [
    "# image registration\n",
    "# img_data = cv2.cvtColor(zdata, cv2.COLOR_BGR2GRAY) \n",
    "# img_anat = cv2.cvtColor(zanatomy, cv2.COLOR_BGR2GRAY) \n",
    "[height, width] = zanatomy.shape \n",
    "\n",
    "# SIFT detector\n",
    "orb = cv2.ORB()\n",
    "\n",
    "# finding keypoints\n",
    "kp1, d1 = orb.detectAndCompute(zdata, None) \n",
    "kp2, d2 = orb.detectAndCompute(zanatomy, None)\n",
    "\n",
    "# creating a matcher\n",
    "# using brute force hamming distance\n",
    "matcher = cv2.BFMatcher(cv2.NORM_HAMMING, crossCheck = True)\n",
    "\n",
    "# matching descriptors\n",
    "matches = matcher.match(d1, d2)\n",
    "print(matches)\n",
    "# Define empty matrices of shape no_of_matches * 2. \n",
    "p1 = np.zeros((no_of_matches, 2)) \n",
    "p2 = np.zeros((no_of_matches, 2)) \n",
    "  \n",
    "for i in range(len(matches)): \n",
    "  p1[i, :] = kp1[matches[i].queryIdx].pt \n",
    "  p2[i, :] = kp2[matches[i].trainIdx].pt \n",
    "\n",
    "print(p1)\n",
    "print(p2)\n",
    "# Find the homography matrix. \n",
    "homography, mask = cv2.findHomography(p1, p2, cv2.RANSAC) \n",
    "print(homography)\n",
    "# Use this matrix to transform the \n",
    "# colored image wrt the reference image. \n",
    "transformed_img = cv2.warpPerspective(zdata, \n",
    "                    homography, (width, height)) \n",
    "  \n",
    "# Save the output. \n",
    "tiff.imsave('transformed.tif',transformed_img)\n",
    "tiff.imsave('anatomy.tif',zanatomy)"
   ]
  },
  {
   "cell_type": "code",
   "execution_count": null,
   "metadata": {},
   "outputs": [],
   "source": []
  }
 ],
 "metadata": {
  "kernelspec": {
   "display_name": "Python 3",
   "language": "python",
   "name": "python3"
  },
  "language_info": {
   "codemirror_mode": {
    "name": "ipython",
    "version": 3
   },
   "file_extension": ".py",
   "mimetype": "text/x-python",
   "name": "python",
   "nbconvert_exporter": "python",
   "pygments_lexer": "ipython3",
   "version": "3.7.4"
  }
 },
 "nbformat": 4,
 "nbformat_minor": 2
}
